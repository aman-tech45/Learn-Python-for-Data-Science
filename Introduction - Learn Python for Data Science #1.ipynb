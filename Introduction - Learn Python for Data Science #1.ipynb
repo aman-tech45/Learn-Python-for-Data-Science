{
 "cells": [
  {
   "cell_type": "markdown",
   "id": "13a780fd",
   "metadata": {},
   "source": [
    "## ran it on terminal , just posting on github using notebook \n",
    "### install ##Dependencies "
   ]
  },
  {
   "cell_type": "markdown",
   "id": "2f495a0b",
   "metadata": {},
   "source": [
    "# using Decision Trees "
   ]
  },
  {
   "cell_type": "code",
   "execution_count": 3,
   "id": "4f9bc518",
   "metadata": {},
   "outputs": [],
   "source": [
    "from sklearn import tree "
   ]
  },
  {
   "cell_type": "code",
   "execution_count": 4,
   "id": "cf086166",
   "metadata": {},
   "outputs": [],
   "source": [
    "X = [[181, 80, 44], [177, 70, 43], [160, 60, 38], [154, 54, 37], [166, 65, 40],\n",
    "          [190, 90, 47], [175, 64, 39],\n",
    "         [177, 70, 40], [159, 55, 37], [171, 75, 42], [181, 85, 43]]\n",
    "    \n",
    "Y = ['male', 'male', 'female', 'female', 'male', 'male', 'female', 'female',\n",
    "      'female', 'male', 'male']"
   ]
  },
  {
   "cell_type": "code",
   "execution_count": 5,
   "id": "8786af99",
   "metadata": {},
   "outputs": [
    {
     "name": "stdout",
     "output_type": "stream",
     "text": [
      "['male']\n"
     ]
    }
   ],
   "source": [
    "clf = tree.DecisionTreeClassifier()\n",
    "clf = clf.fit(X,Y)\n",
    "prediction = clf.predict([[190, 70, 43]])\n",
    "print(prediction)"
   ]
  },
  {
   "cell_type": "markdown",
   "id": "1f2a733f",
   "metadata": {},
   "source": [
    "# another 3 method for classifying in scikit-learn below, "
   ]
  },
  {
   "cell_type": "code",
   "execution_count": 8,
   "id": "8e994c7c",
   "metadata": {},
   "outputs": [],
   "source": [
    "# using KNeighborsClassifier"
   ]
  },
  {
   "cell_type": "code",
   "execution_count": 6,
   "id": "219ac17e",
   "metadata": {},
   "outputs": [],
   "source": [
    "from sklearn.neighbors import KNeighborsClassifier\n"
   ]
  },
  {
   "cell_type": "code",
   "execution_count": 7,
   "id": "67784d84",
   "metadata": {},
   "outputs": [
    {
     "name": "stdout",
     "output_type": "stream",
     "text": [
      "['female']\n"
     ]
    }
   ],
   "source": [
    "clf_knn = KNeighborsClassifier()\n",
    "clf_knn = clf_knn.fit(X,Y)\n",
    "prediction2 = clf_knn.predict([[145,40,23]])\n",
    "print(prediction2)"
   ]
  },
  {
   "cell_type": "code",
   "execution_count": null,
   "id": "d4e1af2c",
   "metadata": {},
   "outputs": [],
   "source": [
    "# using SVC"
   ]
  },
  {
   "cell_type": "code",
   "execution_count": 9,
   "id": "34e2782f",
   "metadata": {},
   "outputs": [],
   "source": [
    "from sklearn.svm import SVC\n"
   ]
  },
  {
   "cell_type": "code",
   "execution_count": 10,
   "id": "a3f850e6",
   "metadata": {},
   "outputs": [
    {
     "name": "stdout",
     "output_type": "stream",
     "text": [
      "['male']\n"
     ]
    }
   ],
   "source": [
    "clf_svm = SVC()\n",
    "clf_svm = clf_svm.fit(X, Y)\n",
    "prediction3 = clf_svm.predict([[178,55,30]])\n",
    "print(prediction3)"
   ]
  },
  {
   "cell_type": "code",
   "execution_count": 11,
   "id": "30b4353c",
   "metadata": {},
   "outputs": [],
   "source": [
    "# using RandomForestClassifier"
   ]
  },
  {
   "cell_type": "code",
   "execution_count": 12,
   "id": "09219e5c",
   "metadata": {},
   "outputs": [],
   "source": [
    "from sklearn.ensemble import RandomForestClassifier\n"
   ]
  },
  {
   "cell_type": "code",
   "execution_count": 13,
   "id": "10e518f9",
   "metadata": {},
   "outputs": [
    {
     "name": "stdout",
     "output_type": "stream",
     "text": [
      "['female']\n"
     ]
    }
   ],
   "source": [
    "clf_rf = RandomForestClassifier()\n",
    "clf_rf = clf_rf.fit(X,Y)\n",
    "prediction4 = clf_rf.predict([[156,46,40]])\n",
    "print(prediction4)\n"
   ]
  }
 ],
 "metadata": {
  "kernelspec": {
   "display_name": "Python 3 (ipykernel)",
   "language": "python",
   "name": "python3"
  },
  "language_info": {
   "codemirror_mode": {
    "name": "ipython",
    "version": 3
   },
   "file_extension": ".py",
   "mimetype": "text/x-python",
   "name": "python",
   "nbconvert_exporter": "python",
   "pygments_lexer": "ipython3",
   "version": "3.9.7"
  }
 },
 "nbformat": 4,
 "nbformat_minor": 5
}
